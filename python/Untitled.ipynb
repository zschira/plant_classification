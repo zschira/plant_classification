{
 "cells": [
  {
   "cell_type": "code",
   "execution_count": 2,
   "metadata": {
    "collapsed": true
   },
   "outputs": [],
   "source": [
    "from sklearn import svm\n",
    "import pandas as pd"
   ]
  },
  {
   "cell_type": "code",
   "execution_count": 14,
   "metadata": {
    "collapsed": false
   },
   "outputs": [],
   "source": [
    "fileName = \"C:/temp/neon_plants.csv\"\n",
    "df = pd.read_csv(fileName, skiprows = 0)"
   ]
  },
  {
   "cell_type": "code",
   "execution_count": 17,
   "metadata": {
    "collapsed": false
   },
   "outputs": [
    {
     "data": {
      "text/plain": [
       "0              Pinus sabiniana\n",
       "1       Arctostaphylos viscida\n",
       "2       Arctostaphylos viscida\n",
       "3       Arctostaphylos viscida\n",
       "4       Arctostaphylos viscida\n",
       "5       Arctostaphylos viscida\n",
       "6       Arctostaphylos viscida\n",
       "7       Arctostaphylos viscida\n",
       "8       Arctostaphylos viscida\n",
       "9       Arctostaphylos viscida\n",
       "10      Arctostaphylos viscida\n",
       "11      Arctostaphylos viscida\n",
       "12          Ceanothus cuneatus\n",
       "13          Ceanothus cuneatus\n",
       "14          Ceanothus cuneatus\n",
       "15          Ceanothus cuneatus\n",
       "16          Ceanothus cuneatus\n",
       "17          Ceanothus cuneatus\n",
       "18          Ceanothus cuneatus\n",
       "19          Ceanothus cuneatus\n",
       "20          Ceanothus cuneatus\n",
       "21          Ceanothus cuneatus\n",
       "22          Ceanothus cuneatus\n",
       "23          Ceanothus cuneatus\n",
       "24          Ceanothus cuneatus\n",
       "25          Ceanothus cuneatus\n",
       "26          Ceanothus cuneatus\n",
       "27          Ceanothus cuneatus\n",
       "28          Ceanothus cuneatus\n",
       "29          Ceanothus cuneatus\n",
       "                 ...          \n",
       "1032         Quercus kelloggii\n",
       "1033         Quercus kelloggii\n",
       "1034         Quercus kelloggii\n",
       "1035         Quercus kelloggii\n",
       "1036         Quercus kelloggii\n",
       "1037         Quercus kelloggii\n",
       "1038         Quercus kelloggii\n",
       "1039         Quercus kelloggii\n",
       "1040         Quercus kelloggii\n",
       "1041         Quercus kelloggii\n",
       "1042         Quercus kelloggii\n",
       "1043         Quercus kelloggii\n",
       "1044         Quercus kelloggii\n",
       "1045         Quercus kelloggii\n",
       "1046         Quercus kelloggii\n",
       "1047         Quercus kelloggii\n",
       "1048         Quercus kelloggii\n",
       "1049             Ribes roezlii\n",
       "1050             Ribes roezlii\n",
       "1051             Ribes roezlii\n",
       "1052             Ribes roezlii\n",
       "1053             Ribes roezlii\n",
       "1054             Ribes roezlii\n",
       "1055             Ribes roezlii\n",
       "1056             Ribes roezlii\n",
       "1057             Ribes roezlii\n",
       "1058             Ribes roezlii\n",
       "1059             Ribes roezlii\n",
       "1060             Ribes roezlii\n",
       "1061             Ribes roezlii\n",
       "Name: scientificname, dtype: object"
      ]
     },
     "execution_count": 17,
     "metadata": {},
     "output_type": "execute_result"
    }
   ],
   "source": [
    "y['scientificname']"
   ]
  },
  {
   "cell_type": "code",
   "execution_count": null,
   "metadata": {
    "collapsed": true
   },
   "outputs": [],
   "source": []
  }
 ],
 "metadata": {
  "kernelspec": {
   "display_name": "Python 3",
   "language": "python",
   "name": "python3"
  },
  "language_info": {
   "codemirror_mode": {
    "name": "ipython",
    "version": 3
   },
   "file_extension": ".py",
   "mimetype": "text/x-python",
   "name": "python",
   "nbconvert_exporter": "python",
   "pygments_lexer": "ipython3",
   "version": "3.5.1"
  }
 },
 "nbformat": 4,
 "nbformat_minor": 0
}
